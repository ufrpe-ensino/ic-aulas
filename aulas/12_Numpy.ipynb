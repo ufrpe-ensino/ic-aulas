{
  "nbformat": 4,
  "nbformat_minor": 0,
  "metadata": {
    "colab": {
      "name": "12_Numpy.ipynb",
      "provenance": [],
      "toc_visible": true,
      "include_colab_link": true
    },
    "kernelspec": {
      "display_name": "Python 3",
      "language": "python",
      "name": "python3"
    }
  },
  "cells": [
    {
      "cell_type": "markdown",
      "metadata": {
        "id": "view-in-github",
        "colab_type": "text"
      },
      "source": [
        "<a href=\"https://colab.research.google.com/github/ufrpe-ensino/ic-aulas/blob/master/aulas/12_Numpy.ipynb\" target=\"_parent\"><img src=\"https://colab.research.google.com/assets/colab-badge.svg\" alt=\"Open In Colab\"/></a>"
      ]
    },
    {
      "metadata": {
        "id": "IkO7iJNB9Ec-"
      },
      "cell_type": "markdown",
      "source": [
        "# Modulo Numpy\n",
        "***"
      ]
    },
    {
      "metadata": {
        "id": "jboE4_Yd9EdA"
      },
      "cell_type": "markdown",
      "source": [
        "Numpy (http://www.numpy.org/) é um módulo fundamental para trabalhar com a computação científica em Python. Este módulo fornece um array multidimensional e diversas ferramentas para trabalhar com estes arrays. Entre as características do módulo Numpy, estão:\n",
        "\n",
        "* Objeto de array multidimensional;\n",
        "* Ferramentas de álgebra linear;\n",
        "* Ferramentas de Transformada de Fourier;\n",
        "* Ferramentas de geração de números aleatórios.\n",
        "\n",
        "Para utilizar o módulo Numpy, basta importá-lo. Neste notebook, o Numpy será importado sempre da seguinte maneira:\n",
        "\n",
        "```py\n",
        "import numpy\n",
        "```\n",
        "\n",
        "Array é uma sequência de elementos do mesmo tipo, formando um conjunto n-dimensional. A forma do array pode ser visualizada através da função shape(), que retorna uma tupla com o tamanho do array em cada dimensão. Os arrays podem ser inicializados com listas e seus elementos podem ser acessados com colchetes.\n",
        "\n",
        "Um array com uma dimensão tem somente um colchete [] com duas dimensões dois colchetes [[], []] e por ai vai.\n",
        "\n",
        "Consulta: https://docs.scipy.org/doc/numpy/reference/\n",
        "\n",
        "Instalação:\n",
        "\n",
        "```\n",
        "pip install numpy\n",
        "```"
      ]
    },
    {
      "metadata": {
        "id": "csLXDn1G9EdB"
      },
      "cell_type": "markdown",
      "source": [
        "***"
      ]
    },
    {
      "metadata": {
        "id": "MWVp6ICl9EdC"
      },
      "cell_type": "markdown",
      "source": [
        "# SciPy\n",
        "\n",
        "O SciPy (https://scipy.org/) é um módulo de algoritmos e ferramentas matemáticas feito para trabalhar com os array do Numpy em Python. Algumas as principais funções do SciPy é trabalhar com:\n",
        "\n",
        "* Álgebra Linear;\n",
        "* Estatística;\n",
        "* Problemas de Otimização;\n",
        "* Operações com Matrizes Esparsas;\n",
        "* Processamento de Sinais."
      ]
    },
    {
      "metadata": {
        "id": "QCT4mwYS9EdD"
      },
      "cell_type": "markdown",
      "source": [
        "***\n",
        "### Exemplos\n",
        "***"
      ]
    },
    {
      "metadata": {
        "id": "KxLICnWJ9EdD"
      },
      "cell_type": "code",
      "source": [
        "# Importa o modulo numpy\n",
        "import numpy"
      ],
      "execution_count": 1,
      "outputs": []
    },
    {
      "cell_type": "markdown",
      "source": [
        "Normalmente, utilizamos um apelido para bibliotecas muito usadas, usando o modificador `as`"
      ],
      "metadata": {
        "id": "30po_tiHjAO4"
      }
    },
    {
      "cell_type": "code",
      "source": [
        "import numpy as np"
      ],
      "metadata": {
        "id": "8O1r8yAqjJwW"
      },
      "execution_count": 18,
      "outputs": []
    },
    {
      "metadata": {
        "collapsed": true,
        "id": "h-6KZihv9EdI"
      },
      "cell_type": "markdown",
      "source": [
        "***"
      ]
    },
    {
      "metadata": {
        "id": "YNRV52Me9EdI",
        "colab": {
          "base_uri": "https://localhost:8080/"
        },
        "outputId": "4fb0b7f5-4323-4c03-fc3b-f4ddd915f9e4"
      },
      "cell_type": "code",
      "source": [
        "# Criar uma lista\n",
        "my_list = [1, 2, 3]\n",
        "print(my_list)"
      ],
      "execution_count": 20,
      "outputs": [
        {
          "output_type": "stream",
          "name": "stdout",
          "text": [
            "[1, 2, 3]\n"
          ]
        }
      ]
    },
    {
      "metadata": {
        "id": "UklmNz7A9EdO"
      },
      "cell_type": "markdown",
      "source": [
        "***"
      ]
    },
    {
      "metadata": {
        "id": "gSmAYzKT9EdQ",
        "colab": {
          "base_uri": "https://localhost:8080/"
        },
        "outputId": "affa7d48-4a59-499a-cf26-731c5a1b8eb7"
      },
      "cell_type": "code",
      "source": [
        "# Vamos através do numpy criar um array unidimensional usando a lista\n",
        "array = np.array(my_list)\n",
        "print(array)"
      ],
      "execution_count": 19,
      "outputs": [
        {
          "output_type": "stream",
          "name": "stdout",
          "text": [
            "[1 2 3]\n"
          ]
        }
      ]
    },
    {
      "metadata": {
        "id": "KMOXNUHL9EdT"
      },
      "cell_type": "markdown",
      "source": [
        "***"
      ]
    },
    {
      "metadata": {
        "id": "AFtgYm0W9EdV",
        "colab": {
          "base_uri": "https://localhost:8080/"
        },
        "outputId": "db57fa96-3a4e-479c-fbbe-83dcfd61424c"
      },
      "cell_type": "code",
      "source": [
        "# Visualizando a forma do array\n",
        "print(array.shape)"
      ],
      "execution_count": 21,
      "outputs": [
        {
          "output_type": "stream",
          "name": "stdout",
          "text": [
            "(3,)\n"
          ]
        }
      ]
    },
    {
      "metadata": {
        "id": "ElnZLMYH9EdZ"
      },
      "cell_type": "markdown",
      "source": [
        "***"
      ]
    },
    {
      "metadata": {
        "id": "R6ZD3Kw89EdZ",
        "colab": {
          "base_uri": "https://localhost:8080/"
        },
        "outputId": "3e785aa0-2c3a-4d4a-d357-735a74bd4fdf"
      },
      "cell_type": "code",
      "source": [
        "# Visualizando o tipo de dados do array\n",
        "# No caso é um array de interios de 64 bits\n",
        "print(array.dtype)"
      ],
      "execution_count": 22,
      "outputs": [
        {
          "output_type": "stream",
          "name": "stdout",
          "text": [
            "int64\n"
          ]
        }
      ]
    },
    {
      "metadata": {
        "id": "0g22xEhO9Ede"
      },
      "cell_type": "markdown",
      "source": [
        "***"
      ]
    },
    {
      "metadata": {
        "id": "QxNG1des9Edf",
        "colab": {
          "base_uri": "https://localhost:8080/"
        },
        "outputId": "fa57b0d8-a268-4435-e0be-2b078db2f4b1"
      },
      "cell_type": "code",
      "source": [
        "# Acessando elementos individuais do array\n",
        "print(array[0], array[1], array[2])"
      ],
      "execution_count": 23,
      "outputs": [
        {
          "output_type": "stream",
          "name": "stdout",
          "text": [
            "1 2 3\n"
          ]
        }
      ]
    },
    {
      "metadata": {
        "id": "1LogL68b9Edi"
      },
      "cell_type": "markdown",
      "source": [
        "***"
      ]
    },
    {
      "metadata": {
        "id": "3px58eeN9Edj",
        "colab": {
          "base_uri": "https://localhost:8080/"
        },
        "outputId": "4f828b8b-8e96-4e6e-8ef7-eca6c638ff89"
      },
      "cell_type": "code",
      "source": [
        "# Modificando o valor de um elemento do array\n",
        "array[1] = 10\n",
        "print(array)"
      ],
      "execution_count": 24,
      "outputs": [
        {
          "output_type": "stream",
          "name": "stdout",
          "text": [
            "[ 1 10  3]\n"
          ]
        }
      ]
    },
    {
      "metadata": {
        "id": "KvZG9QyD9Edo"
      },
      "cell_type": "markdown",
      "source": [
        "***"
      ]
    },
    {
      "metadata": {
        "id": "hjorzlHB9Edp",
        "colab": {
          "base_uri": "https://localhost:8080/"
        },
        "outputId": "eaf08e71-a4cd-4422-a160-5e2b46a007a7"
      },
      "cell_type": "code",
      "source": [
        "# Pegar o maior e o menor valor e indice do array\n",
        "print(\"Maior valor:\", array.max(), \"está no indice\", array.argmax())\n",
        "print(\"Menor valor:\", array.min(), \"está no indice\", array.argmin())"
      ],
      "execution_count": 25,
      "outputs": [
        {
          "output_type": "stream",
          "name": "stdout",
          "text": [
            "Maior valor: 10 está no indice 1\n",
            "Menor valor: 1 está no indice 0\n"
          ]
        }
      ]
    },
    {
      "metadata": {
        "id": "eVOYBiow9Edt"
      },
      "cell_type": "markdown",
      "source": [
        "***"
      ]
    },
    {
      "metadata": {
        "id": "LjDLYtSa9Edu",
        "colab": {
          "base_uri": "https://localhost:8080/"
        },
        "outputId": "091f7cdc-e9da-41da-cd82-e16445c2fdd4"
      },
      "cell_type": "code",
      "source": [
        "# Vamo criar uma matriz utilizando várias listas\n",
        "matrix = np.array([[1, 2, 3], [4, 5, 6], [7, 8, 9]])\n",
        "print(matrix)"
      ],
      "execution_count": 26,
      "outputs": [
        {
          "output_type": "stream",
          "name": "stdout",
          "text": [
            "[[1 2 3]\n",
            " [4 5 6]\n",
            " [7 8 9]]\n"
          ]
        }
      ]
    },
    {
      "metadata": {
        "id": "CMPeTC7s9Edx"
      },
      "cell_type": "markdown",
      "source": [
        "***"
      ]
    },
    {
      "metadata": {
        "id": "FI--4rIJ9Edx",
        "colab": {
          "base_uri": "https://localhost:8080/"
        },
        "outputId": "3064ca02-30b6-461f-cf50-75a66d447d35"
      },
      "cell_type": "code",
      "source": [
        "# Visualizando a forma da matriz\n",
        "print(matrix.shape)"
      ],
      "execution_count": 27,
      "outputs": [
        {
          "output_type": "stream",
          "name": "stdout",
          "text": [
            "(3, 3)\n"
          ]
        }
      ]
    },
    {
      "metadata": {
        "id": "ENlTUOdk9Yxr",
        "colab": {
          "base_uri": "https://localhost:8080/"
        },
        "outputId": "20802aa5-7a27-4afd-d79b-095e48bf5b53"
      },
      "cell_type": "code",
      "source": [
        "# Visualizando o número de elmentos da matriz/array\n",
        "matrix.size          "
      ],
      "execution_count": 28,
      "outputs": [
        {
          "output_type": "execute_result",
          "data": {
            "text/plain": [
              "9"
            ]
          },
          "metadata": {},
          "execution_count": 28
        }
      ]
    },
    {
      "metadata": {
        "id": "NAicPtCT9Ed2"
      },
      "cell_type": "markdown",
      "source": [
        "***"
      ]
    },
    {
      "metadata": {
        "id": "7e2w6DpA9Ed2",
        "colab": {
          "base_uri": "https://localhost:8080/"
        },
        "outputId": "068e169e-3808-4887-93eb-3a3d0a8082b0"
      },
      "cell_type": "code",
      "source": [
        "# Visualizando o tipo de dados da matriz\n",
        "# No caso é uma matriz de floats de 64 bits\n",
        "print(matrix.dtype)"
      ],
      "execution_count": 12,
      "outputs": [
        {
          "output_type": "stream",
          "name": "stdout",
          "text": [
            "int64\n"
          ]
        }
      ]
    },
    {
      "metadata": {
        "id": "5NlMmikX9Ed7"
      },
      "cell_type": "markdown",
      "source": [
        "***"
      ]
    },
    {
      "metadata": {
        "id": "MRpahnmD9Ed7",
        "colab": {
          "base_uri": "https://localhost:8080/"
        },
        "outputId": "0769eda4-6ec3-4ea1-a747-4329da89adf4"
      },
      "cell_type": "code",
      "source": [
        "# Acessando elementos individuais da matriz\n",
        "print(matrix[0][0], matrix[1][1], matrix[2][2])\n",
        "print(matrix[0, 0], matrix[1, 1], matrix[2, 2])"
      ],
      "execution_count": 29,
      "outputs": [
        {
          "output_type": "stream",
          "name": "stdout",
          "text": [
            "1 5 9\n",
            "1 5 9\n"
          ]
        }
      ]
    },
    {
      "metadata": {
        "id": "jH3ZqgSh9wBQ"
      },
      "cell_type": "markdown",
      "source": [
        "# Métodos para ARRAYS"
      ]
    },
    {
      "metadata": {
        "id": "MDxyGYnX9pQU",
        "colab": {
          "base_uri": "https://localhost:8080/"
        },
        "outputId": "a6fd3e38-1364-4d98-9bb4-87847c0c1916"
      },
      "cell_type": "code",
      "source": [
        "# média\n",
        "arr = np.array([[1., 2., 3.,], [4., 5., 6.]]) \n",
        "arr.mean()"
      ],
      "execution_count": 30,
      "outputs": [
        {
          "output_type": "execute_result",
          "data": {
            "text/plain": [
              "3.5"
            ]
          },
          "metadata": {},
          "execution_count": 30
        }
      ]
    },
    {
      "metadata": {
        "id": "S-tJoLgH95Ni",
        "colab": {
          "base_uri": "https://localhost:8080/"
        },
        "outputId": "b19952b0-3081-463d-8371-c531ea71e933"
      },
      "cell_type": "code",
      "source": [
        "# definindo o axis\n",
        "arr.mean(axis=0)  # colunas\n"
      ],
      "execution_count": 31,
      "outputs": [
        {
          "output_type": "execute_result",
          "data": {
            "text/plain": [
              "array([2.5, 3.5, 4.5])"
            ]
          },
          "metadata": {},
          "execution_count": 31
        }
      ]
    },
    {
      "metadata": {
        "id": "21j_ZBPo-BEO",
        "colab": {
          "base_uri": "https://localhost:8080/"
        },
        "outputId": "b63a528b-d5ad-496d-af5c-d67bb5fa950b"
      },
      "cell_type": "code",
      "source": [
        "arr.mean(axis=1)  # linhas"
      ],
      "execution_count": 32,
      "outputs": [
        {
          "output_type": "execute_result",
          "data": {
            "text/plain": [
              "array([2., 5.])"
            ]
          },
          "metadata": {},
          "execution_count": 32
        }
      ]
    },
    {
      "cell_type": "markdown",
      "source": [
        "## Criando arrays de números aleatórios"
      ],
      "metadata": {
        "id": "784ZDpmajdOS"
      }
    },
    {
      "cell_type": "code",
      "source": [
        "# cria um array com 10 numeros aleatorios (entre 0 e 1)\n",
        "x = np.random.rand(10)\n",
        "print(x)"
      ],
      "metadata": {
        "id": "-yan4jsgjiue",
        "outputId": "bc36803c-69de-46ac-c148-78c12b4516c8",
        "colab": {
          "base_uri": "https://localhost:8080/"
        }
      },
      "execution_count": 35,
      "outputs": [
        {
          "output_type": "stream",
          "name": "stdout",
          "text": [
            "[0.3816571  0.58881142 0.58758362 0.14273446 0.81270227 0.0607756\n",
            " 0.62287711 0.35414181 0.59686317 0.92846691]\n"
          ]
        }
      ]
    },
    {
      "metadata": {
        "id": "ywE5K6Te-dZZ"
      },
      "cell_type": "markdown",
      "source": [
        "Você pode encontrar o mínimo e o máximo de um array com os métodos min e max. Às vezes é útil encontrar os índices desses mínimos e máximos. Para isso use argmin e argmax, como"
      ]
    },
    {
      "metadata": {
        "id": "_On9oZwU-DJg",
        "colab": {
          "base_uri": "https://localhost:8080/"
        },
        "outputId": "36601846-77d8-4a8a-f36a-d38e3d961cd8"
      },
      "cell_type": "code",
      "source": [
        "imax = x.argmax()\n",
        "print(imax, x[imax], x.max())"
      ],
      "execution_count": 37,
      "outputs": [
        {
          "output_type": "stream",
          "name": "stdout",
          "text": [
            "3 0.9222592159938129 0.9222592159938129\n"
          ]
        }
      ]
    },
    {
      "cell_type": "markdown",
      "source": [
        "## Criando arrays com intervalos pré-determinados"
      ],
      "metadata": {
        "id": "gP8VeX1Mj98d"
      }
    },
    {
      "metadata": {
        "id": "1WdEfsZA_JW5"
      },
      "cell_type": "markdown",
      "source": [
        "Há também várias maneiras de gerar sequências de números.\n",
        "\n",
        "  - np.arange ([start,] stop [[, stride]]) Cria uma sequência de números, semelhante ao intervalo\n",
        "  - np.linspace (min, max, length) Cria uma série uniforme de comprimento especificado entre min e max, inclusive.\n",
        "  - np.logspace (minpow, maxpow, length) Cria uma série uniforme no espaço de logs de tamanho especificado entre 10 ** minpow e 10 ** maxpow, inclusive."
      ]
    },
    {
      "metadata": {
        "id": "QTJSHz0t_WOW",
        "colab": {
          "base_uri": "https://localhost:8080/"
        },
        "outputId": "9909ce50-5a1a-459f-e8a7-2d882abaf1f5"
      },
      "cell_type": "code",
      "source": [
        "import numpy as np\n",
        "np.arange(10.)"
      ],
      "execution_count": 38,
      "outputs": [
        {
          "output_type": "execute_result",
          "data": {
            "text/plain": [
              "array([0., 1., 2., 3., 4., 5., 6., 7., 8., 9.])"
            ]
          },
          "metadata": {},
          "execution_count": 38
        }
      ]
    },
    {
      "metadata": {
        "id": "uBtlsOz7_WDe",
        "colab": {
          "base_uri": "https://localhost:8080/"
        },
        "outputId": "ad6e3a4a-209f-4bd2-a7ff-37851b805ce2"
      },
      "cell_type": "code",
      "source": [
        "np.linspace(0, 1, 10) "
      ],
      "execution_count": 41,
      "outputs": [
        {
          "output_type": "execute_result",
          "data": {
            "text/plain": [
              "array([0.        , 0.11111111, 0.22222222, 0.33333333, 0.44444444,\n",
              "       0.55555556, 0.66666667, 0.77777778, 0.88888889, 1.        ])"
            ]
          },
          "metadata": {},
          "execution_count": 41
        }
      ]
    },
    {
      "metadata": {
        "id": "Qume6T9R_V2P",
        "colab": {
          "base_uri": "https://localhost:8080/"
        },
        "outputId": "2fa04a19-d4a2-488b-e64c-3a6ecc8b6707"
      },
      "cell_type": "code",
      "source": [
        "np.logspace(0, 1, 10) "
      ],
      "execution_count": 42,
      "outputs": [
        {
          "output_type": "execute_result",
          "data": {
            "text/plain": [
              "array([ 1.        ,  1.29154967,  1.66810054,  2.15443469,  2.7825594 ,\n",
              "        3.59381366,  4.64158883,  5.9948425 ,  7.74263683, 10.        ])"
            ]
          },
          "metadata": {},
          "execution_count": 42
        }
      ]
    },
    {
      "metadata": {
        "id": "nlpMEA-9-jPG"
      },
      "cell_type": "markdown",
      "source": [
        "## Criação de arrays padrão"
      ]
    },
    {
      "metadata": {
        "id": "_V0tQmSv-0xK",
        "colab": {
          "base_uri": "https://localhost:8080/"
        },
        "outputId": "c10be5ee-6004-4d1d-8464-326bcee6c4a7"
      },
      "cell_type": "code",
      "source": [
        "o = np.ones(4)    \n",
        "print(o)"
      ],
      "execution_count": 44,
      "outputs": [
        {
          "output_type": "stream",
          "name": "stdout",
          "text": [
            "[1. 1. 1. 1.]\n"
          ]
        }
      ]
    },
    {
      "cell_type": "code",
      "source": [
        "# matriz 3x4 de 1´s\n",
        "np.ones((3,4))"
      ],
      "metadata": {
        "id": "V7888ZaEkG6W",
        "outputId": "26cbaacc-0d46-476f-9208-13b5711d58a1",
        "colab": {
          "base_uri": "https://localhost:8080/"
        }
      },
      "execution_count": 46,
      "outputs": [
        {
          "output_type": "execute_result",
          "data": {
            "text/plain": [
              "array([[1., 1., 1., 1.],\n",
              "       [1., 1., 1., 1.],\n",
              "       [1., 1., 1., 1.]])"
            ]
          },
          "metadata": {},
          "execution_count": 46
        }
      ]
    },
    {
      "cell_type": "code",
      "source": [
        "# matriz 2x3 de bool\n",
        "b = np.ones((2, 3), dtype=bool)\n",
        "print(b)"
      ],
      "metadata": {
        "id": "o08ELSuwkK9j",
        "outputId": "8c94d994-43be-45ab-b027-dbdb300b7858",
        "colab": {
          "base_uri": "https://localhost:8080/"
        }
      },
      "execution_count": 49,
      "outputs": [
        {
          "output_type": "stream",
          "name": "stdout",
          "text": [
            "[[ True  True  True]\n",
            " [ True  True  True]]\n"
          ]
        }
      ]
    },
    {
      "cell_type": "code",
      "source": [
        "# matriz 2x3 de 0´s\n",
        "z = np.zeros((2, 3), dtype=np.float32)\n",
        "print(z)"
      ],
      "metadata": {
        "id": "9ZHKck8NkVtX",
        "outputId": "03e99a45-8f25-4baf-d311-7b229dd26a62",
        "colab": {
          "base_uri": "https://localhost:8080/"
        }
      },
      "execution_count": 51,
      "outputs": [
        {
          "output_type": "stream",
          "name": "stdout",
          "text": [
            "[[0. 0. 0.]\n",
            " [0. 0. 0.]]\n"
          ]
        }
      ]
    },
    {
      "cell_type": "code",
      "source": [
        ""
      ],
      "metadata": {
        "id": "wHmu5YI9kdIF"
      },
      "execution_count": null,
      "outputs": []
    }
  ]
}