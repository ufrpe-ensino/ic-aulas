{
 "cells": [
  {
   "cell_type": "markdown",
   "metadata": {},
   "source": [
    "<a href=\"https://colab.research.google.com/github/ufrpe-ensino/ic-aulas/blob/master/aulas/06_Tuplas.ipynb\" target=\"_parent\"><img src=\"https://colab.research.google.com/assets/colab-badge.svg\" alt=\"Open In Colab\"/></a>"
   ]
  },
  {
   "cell_type": "markdown",
   "metadata": {},
   "source": [
    "# Tuplas\n",
    "\n",
    "Tuplas são iguais a listas, porém são imutaveis e se definem com parenteses () e não com colchetes [], e tem bem menos métodos, sendo mais constantes\n",
    "\n",
    "Se eu crio uma tupla no meu programa eu garanto que eles não irão ser modificados, diferente das listas\n",
    "\n",
    "Se definir tupla de um único elemento t = (40) sem a virgula virá um número normal\n",
    "\n",
    "Podemos usar algumas funções de lista: len(), index(), max(), min(), count()\n",
    "\n",
    "Ao retornar várias variaveis de uma função e armazenar em uma única variavel, ele irá armazenar como tupla\n",
    "\n",
    "Exemplos"
   ]
  },
  {
   "cell_type": "code",
   "execution_count": null,
   "metadata": {},
   "outputs": [],
   "source": [
    "# Tupla vazia\n",
    "tupla = ()\n",
    "print(type(tupla))"
   ]
  },
  {
   "cell_type": "code",
   "execution_count": null,
   "metadata": {},
   "outputs": [],
   "source": [
    "# Tupla de um único elemento, obrigatorio o uso da virgula no final para não definir como um número normal\n",
    "tupla = (1,)\n",
    "print(tupla)"
   ]
  },
  {
   "cell_type": "code",
   "execution_count": null,
   "metadata": {},
   "outputs": [],
   "source": [
    "# Podemos usar algumas funções de lista\n",
    "t = (2, 4, 5, 8)\n",
    "print(type(t))\n",
    "\n",
    "t = 4\n",
    "print(type(t))"
   ]
  },
  {
   "cell_type": "code",
   "execution_count": null,
   "metadata": {},
   "outputs": [],
   "source": [
    "# Declarar tuplas\n",
    "tupla1 = 1, 2.3, 5, 7, 'jose', t\n",
    "tupla2 = (8, 3.6, 3, 12)\n",
    "print(tupla1)\n",
    "print(tupla2)\n"
   ]
  },
  {
   "cell_type": "code",
   "execution_count": null,
   "metadata": {},
   "outputs": [],
   "source": [
    "# Atribuir variáveis a uma tupla\n",
    "a = 10\n",
    "b = 11\n",
    "c = 12\n",
    "marcella = a, b, c\n",
    "print(marcella)\n",
    "\n",
    "a = 15\n",
    "print(marcella)\n"
   ]
  },
  {
   "cell_type": "code",
   "execution_count": null,
   "metadata": {},
   "outputs": [],
   "source": [
    "# Converter listas em tuplas\n",
    "tupla = tuple([1, 2, 3])\n",
    "print(tupla)"
   ]
  },
  {
   "cell_type": "code",
   "execution_count": null,
   "metadata": {},
   "outputs": [],
   "source": [
    "# Tuplas dentro de tuplas\n",
    "tupla = (2,  # 0\n",
    "         (3, 4), # 1,0 e 1,1\n",
    "         5)  # 2\n",
    "print(tupla)\n",
    "print(\"elemento:\", tupla[1][0])\n",
    "\n",
    "print(tupla[1])"
   ]
  },
  {
   "cell_type": "code",
   "execution_count": null,
   "metadata": {},
   "outputs": [],
   "source": [
    "# Slices em tuplas\n",
    "print(tupla[1:4])"
   ]
  },
  {
   "cell_type": "code",
   "execution_count": null,
   "metadata": {},
   "outputs": [],
   "source": [
    "# Lista dentro de tuplas\n",
    "tupla = (2, [3, 4], 5)\n",
    "print(tupla)\n",
    "tupla[1][1] = 5\n",
    "print(tupla)\n",
    "print(\"elemento:\", tupla[1][1])"
   ]
  },
  {
   "cell_type": "code",
   "execution_count": null,
   "metadata": {},
   "outputs": [],
   "source": [
    "# Concatenação de tuplas\n",
    "tuplas = (1,2,3) + (4,5,6)\n",
    "print(tuplas)"
   ]
  },
  {
   "cell_type": "code",
   "execution_count": null,
   "metadata": {},
   "outputs": [],
   "source": [
    "# Inserir texto dentro de tuplas\n",
    "tupla = (1, 2, \"aaaa\", 3)\n",
    "print(tupla)"
   ]
  },
  {
   "cell_type": "code",
   "execution_count": null,
   "metadata": {},
   "outputs": [],
   "source": [
    "# Usar tupla em laços\n",
    "for tupla in tuplas:\n",
    "    print('elemento ', tupla)"
   ]
  },
  {
   "cell_type": "code",
   "execution_count": null,
   "metadata": {},
   "outputs": [],
   "source": [
    "# Retorna o indice do elemento 3 da tupla\n",
    "tupla = (1, 2, 33, 45, 5)\n",
    "\n",
    "print(max(tupla))\n",
    "\n",
    "print(tupla.index(min(tupla)))"
   ]
  },
  {
   "cell_type": "code",
   "execution_count": 1,
   "metadata": {},
   "outputs": [
    {
     "name": "stdout",
     "output_type": "stream",
     "text": [
      "2\n"
     ]
    }
   ],
   "source": [
    "# Retorna o número de vezes que o elemento 1 aparece na tupla\n",
    "tupla = (1, 2, 3, 3, 5)\n",
    "print(tupla.count(3))"
   ]
  },
  {
   "cell_type": "markdown",
   "metadata": {},
   "source": [
    "### Exercício\n",
    "Dada a tupla abaixo, representando uma sequência de DNA, informe quantas vezes cada nucleotídeo ('a', 'c', 't', 'g') é observado na sequência "
   ]
  },
  {
   "cell_type": "code",
   "execution_count": null,
   "metadata": {},
   "outputs": [],
   "source": [
    "dna = ('a','c','a','t','t','g','g')\n",
    "\n",
    "# sua resposta aqui"
   ]
  },
  {
   "cell_type": "code",
   "execution_count": null,
   "metadata": {},
   "outputs": [],
   "source": []
  }
 ],
 "metadata": {
  "kernelspec": {
   "display_name": "Python 3",
   "language": "python",
   "name": "python3"
  },
  "language_info": {
   "codemirror_mode": {
    "name": "ipython",
    "version": 3
   },
   "file_extension": ".py",
   "mimetype": "text/x-python",
   "name": "python",
   "nbconvert_exporter": "python",
   "pygments_lexer": "ipython3",
   "version": "3.8.8"
  },
  "toc": {
   "base_numbering": 1,
   "nav_menu": {},
   "number_sections": true,
   "sideBar": true,
   "skip_h1_title": false,
   "title_cell": "Table of Contents",
   "title_sidebar": "Contents",
   "toc_cell": false,
   "toc_position": {},
   "toc_section_display": true,
   "toc_window_display": false
  },
  "varInspector": {
   "cols": {
    "lenName": 16,
    "lenType": 16,
    "lenVar": 40
   },
   "kernels_config": {
    "python": {
     "delete_cmd_postfix": "",
     "delete_cmd_prefix": "del ",
     "library": "var_list.py",
     "varRefreshCmd": "print(var_dic_list())"
    },
    "r": {
     "delete_cmd_postfix": ") ",
     "delete_cmd_prefix": "rm(",
     "library": "var_list.r",
     "varRefreshCmd": "cat(var_dic_list()) "
    }
   },
   "types_to_exclude": [
    "module",
    "function",
    "builtin_function_or_method",
    "instance",
    "_Feature"
   ],
   "window_display": false
  }
 },
 "nbformat": 4,
 "nbformat_minor": 2
}
