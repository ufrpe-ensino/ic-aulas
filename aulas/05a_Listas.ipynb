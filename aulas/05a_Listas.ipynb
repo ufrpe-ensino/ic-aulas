{
  "cells": [
    {
      "cell_type": "markdown",
      "metadata": {
        "id": "view-in-github",
        "colab_type": "text"
      },
      "source": [
        "<a href=\"https://colab.research.google.com/github/ufrpe-ensino/ic-aulas/blob/master/aulas/05a_Listas.ipynb\" target=\"_parent\"><img src=\"https://colab.research.google.com/assets/colab-badge.svg\" alt=\"Open In Colab\"/></a>"
      ]
    },
    {
      "cell_type": "markdown",
      "metadata": {
        "id": "ugeERupJehjE"
      },
      "source": [
        "<a href=\"https://colab.research.google.com/github/ufrpe-ensino/ic-aulas/blob/master/aulas/05a_Listas.ipynb\" target=\"_parent\"><img src=\"https://colab.research.google.com/assets/colab-badge.svg\" alt=\"Open In Colab\"/></a>"
      ]
    },
    {
      "cell_type": "markdown",
      "metadata": {
        "id": "komgxTEdehjH"
      },
      "source": [
        "# Listas\n",
        "***"
      ]
    },
    {
      "cell_type": "markdown",
      "metadata": {
        "id": "nDRLWmGkehjH"
      },
      "source": [
        "Para criar uma lista é só colocar a sequência de elementos entre colchetes []\n",
        "\n",
        "A função print consegue imprimir uma lista\n",
        "\n",
        "A lista pode misturar números inteiros, reais, strings, outras listas e etc\n",
        "\n",
        "Indices negativos conta a lista de trás para frente, o indice 0 é o primeiro elemento da lista e o -1 é o ultimo elemento\n",
        "\n",
        "**Técnica slice**: permite que você percorra elementos de uma lista criando outra lista a partir desses elementos\n",
        "\n",
        "  - Se tentar percorrer uma lista na qual o $x > y$ retornará uma lista vazia\n",
        "    \n",
        "  - Duplo slice percorre de um elemento tal até um elemento tal com passos tal -> ```lista[::]```\n",
        "    \n",
        "  - Você pode atribuir o retorno do slice ou a sub-lista criada para uma variável\n",
        "\n",
        "Para obter um elemento de uma lista dentro de outra é só achar o indice da lista interna e inserir o indice do elemento\n",
        "\n",
        "Podemos somar duas lista, isso irá adicionar os elementos da segunda lista na primeira\n",
        "\n",
        "Vale lembrar que a lista começa no 0"
      ]
    },
    {
      "cell_type": "markdown",
      "metadata": {
        "id": "YAV7-MqsehjI"
      },
      "source": [
        "***\n",
        "#### Exemplo lista\n",
        "***"
      ]
    },
    {
      "cell_type": "code",
      "execution_count": null,
      "metadata": {
        "collapsed": true,
        "id": "RYoWxuYJehjI"
      },
      "outputs": [],
      "source": [
        "# Cria a lista\n",
        "lista = [1, 2, 3, 4, 5]"
      ]
    },
    {
      "cell_type": "code",
      "execution_count": null,
      "metadata": {
        "id": "bymmnBxIehjJ"
      },
      "outputs": [],
      "source": [
        "# Imprime a lista\n",
        "print(lista)"
      ]
    },
    {
      "cell_type": "code",
      "execution_count": null,
      "metadata": {
        "collapsed": true,
        "id": "81FYiDybehjK"
      },
      "outputs": [],
      "source": [
        "# Add elemento ao final da lista\n",
        "lista += [6]"
      ]
    },
    {
      "cell_type": "code",
      "execution_count": null,
      "metadata": {
        "id": "5wMLUyn0ehjL"
      },
      "outputs": [],
      "source": [
        "# Imprime a lista com o novo elemento\n",
        "print(lista)"
      ]
    },
    {
      "cell_type": "markdown",
      "metadata": {
        "id": "wrs9Bjw3ehjL"
      },
      "source": [
        "***\n",
        "#### Exemplo consulta\n",
        "***"
      ]
    },
    {
      "cell_type": "code",
      "execution_count": null,
      "metadata": {
        "id": "-bMCwqGQehjM"
      },
      "outputs": [],
      "source": [
        "# Imprime o primeiro elemento da lista\n",
        "print(lista[0])"
      ]
    },
    {
      "cell_type": "code",
      "execution_count": null,
      "metadata": {
        "id": "vFad-B0yehjM"
      },
      "outputs": [],
      "source": [
        "# Imprime o ultimo elemento da lista\n",
        "print(lista[-1])"
      ]
    },
    {
      "cell_type": "code",
      "execution_count": null,
      "metadata": {
        "id": "2WscPKrNehjM"
      },
      "outputs": [],
      "source": [
        "# Soma o primeiro e o segundo elemento da lista\n",
        "print(lista[0]+lista[1])"
      ]
    },
    {
      "cell_type": "code",
      "execution_count": null,
      "metadata": {
        "collapsed": true,
        "id": "kJaKg3o8ehjM"
      },
      "outputs": [],
      "source": [
        "# Muda o valor do primeiro elemento da lista\n",
        "lista[0] = 10"
      ]
    },
    {
      "cell_type": "code",
      "execution_count": null,
      "metadata": {
        "id": "5y1zm1KaehjN"
      },
      "outputs": [],
      "source": [
        "# Imprime a lista\n",
        "print(lista)"
      ]
    },
    {
      "cell_type": "markdown",
      "metadata": {
        "id": "sOfsNoO5ehjN"
      },
      "source": [
        "***\n",
        "#### Exemplo slices\n",
        "***"
      ]
    },
    {
      "cell_type": "code",
      "execution_count": null,
      "metadata": {
        "id": "vEPMtJCRehjN"
      },
      "outputs": [],
      "source": [
        "# Percorre a lista do primeiro elemento até o terceiro\n",
        "print(lista[0:4])"
      ]
    },
    {
      "cell_type": "code",
      "execution_count": null,
      "metadata": {
        "id": "oEU4aY84ehjN"
      },
      "outputs": [],
      "source": [
        "# Percorre a lista do primeiro elemento até o terceiro de dois em dois\n",
        "print(lista[0:4:2])"
      ]
    },
    {
      "cell_type": "code",
      "execution_count": null,
      "metadata": {
        "id": "8pJKTr6MehjO"
      },
      "outputs": [],
      "source": [
        "# Percorre a lista do elemento 0 até o ultimo elemento\n",
        "print(lista[:])"
      ]
    },
    {
      "cell_type": "code",
      "execution_count": null,
      "metadata": {
        "id": "pVJe9fV-ehjO"
      },
      "outputs": [],
      "source": [
        "# Percorre do inicio da lista até o elemento 3\n",
        "print(lista[:4])"
      ]
    },
    {
      "cell_type": "code",
      "execution_count": null,
      "metadata": {
        "id": "tvW5AxriehjO"
      },
      "outputs": [],
      "source": [
        "# Percorre do elemento 3 até o final da lista\n",
        "print(lista[3:])"
      ]
    },
    {
      "cell_type": "code",
      "execution_count": null,
      "metadata": {
        "id": "tFz7ymf5ehjO"
      },
      "outputs": [],
      "source": [
        "# Inverte a lista\n",
        "print(lista[::-1])"
      ]
    },
    {
      "cell_type": "markdown",
      "metadata": {
        "id": "6djD3MyHehjO"
      },
      "source": [
        "**Exercício**\n",
        "\n",
        "Seja a lista\n",
        "\n",
        "``` bar = [0, 1, 2, 3, 4, 5, 6, 7, 8, 9] \n",
        "``` \n",
        "\n",
        "use indexação para obter as seguintes sequencias:\n",
        "\n",
        "```\n",
        "[3, 4, 5]\n",
        "\n",
        "[9]        \n",
        "\n",
        "[2, 5, 8]\n",
        "```\n",
        "\n",
        "O que acontece quando você excede os limites da lista?\n",
        "```\n",
        "bar[99]\n",
        "bar[-99]\n",
        "bar[5:99]\n",
        "```"
      ]
    },
    {
      "cell_type": "code",
      "execution_count": null,
      "metadata": {
        "collapsed": true,
        "id": "QLD9ByIZehjO"
      },
      "outputs": [],
      "source": []
    },
    {
      "cell_type": "markdown",
      "metadata": {
        "id": "hXtv3yPZehjO"
      },
      "source": [
        "***\n",
        "#### Exemplo de lista dentro de lista\n",
        "***"
      ]
    },
    {
      "cell_type": "code",
      "execution_count": null,
      "metadata": {
        "collapsed": true,
        "id": "HOc5IxsnehjP"
      },
      "outputs": [],
      "source": [
        "# Cria a lista de listas\n",
        "lista = [[[1,2],[3,4]],[5,6]]"
      ]
    },
    {
      "cell_type": "code",
      "execution_count": null,
      "metadata": {
        "id": "vmZ1_JBxehjP"
      },
      "outputs": [],
      "source": [
        "# Imprime a lista de listas\n",
        "print(lista)"
      ]
    },
    {
      "cell_type": "code",
      "execution_count": null,
      "metadata": {
        "id": "BaPS9DulehjP"
      },
      "outputs": [],
      "source": [
        "# Imprime a lista com indice 0 dentro da lista principal\n",
        "print(lista[0])"
      ]
    },
    {
      "cell_type": "code",
      "execution_count": null,
      "metadata": {
        "id": "PHNWkJJGehjP"
      },
      "outputs": [],
      "source": [
        "# Imprime a lista com indice 0 dentro da lista com indice 0 dentro da lista principal\n",
        "print(lista[0][0])"
      ]
    },
    {
      "cell_type": "code",
      "execution_count": null,
      "metadata": {
        "id": "SmfK5sluehjP"
      },
      "outputs": [],
      "source": [
        "# Imprime o elemento dentro da lista com indice 0 ..\n",
        "print(lista[0][0][0])"
      ]
    },
    {
      "cell_type": "code",
      "execution_count": null,
      "metadata": {
        "id": "zBZ8qqkTehjP"
      },
      "outputs": [],
      "source": [
        "# Insere os elementos/listas da lista de indice 0 dentro da lista principal\n",
        "print(lista + lista[0])"
      ]
    },
    {
      "cell_type": "markdown",
      "metadata": {
        "id": "Z4FtIFiuehjP"
      },
      "source": [
        "## Append\n",
        "\n",
        "append(): Adiciona um item no final da lista\n",
        "\n",
        "### Exemplos\n",
        "\n",
        "#### Inicializar a lista vazia"
      ]
    },
    {
      "cell_type": "code",
      "execution_count": null,
      "metadata": {
        "collapsed": true,
        "id": "P22FGADJehjP"
      },
      "outputs": [],
      "source": [
        "cars_list = []"
      ]
    },
    {
      "cell_type": "code",
      "execution_count": null,
      "metadata": {
        "id": "ZXPaNQ7NehjP"
      },
      "outputs": [],
      "source": [
        "# Adiciona um carro no final da lista\n",
        "cars_list.append(\"celta\")\n",
        "cars_list.append(\"fusca\")\n",
        "cars_list.append(\"bmw\")\n",
        "\n",
        "print(cars_list)"
      ]
    },
    {
      "cell_type": "code",
      "execution_count": null,
      "metadata": {
        "collapsed": true,
        "id": "wqKrNkt9ehjP"
      },
      "outputs": [],
      "source": []
    }
  ],
  "metadata": {
    "kernelspec": {
      "display_name": "Python 3",
      "language": "python",
      "name": "python3"
    },
    "language_info": {
      "codemirror_mode": {
        "name": "ipython",
        "version": 3
      },
      "file_extension": ".py",
      "mimetype": "text/x-python",
      "name": "python",
      "nbconvert_exporter": "python",
      "pygments_lexer": "ipython3",
      "version": "3.7.1"
    },
    "toc": {
      "base_numbering": 1,
      "nav_menu": {},
      "number_sections": true,
      "sideBar": true,
      "skip_h1_title": false,
      "title_cell": "Table of Contents",
      "title_sidebar": "Contents",
      "toc_cell": false,
      "toc_position": {},
      "toc_section_display": true,
      "toc_window_display": false
    },
    "varInspector": {
      "cols": {
        "lenName": 16,
        "lenType": 16,
        "lenVar": 40
      },
      "kernels_config": {
        "python": {
          "delete_cmd_postfix": "",
          "delete_cmd_prefix": "del ",
          "library": "var_list.py",
          "varRefreshCmd": "print(var_dic_list())"
        },
        "r": {
          "delete_cmd_postfix": ") ",
          "delete_cmd_prefix": "rm(",
          "library": "var_list.r",
          "varRefreshCmd": "cat(var_dic_list()) "
        }
      },
      "types_to_exclude": [
        "module",
        "function",
        "builtin_function_or_method",
        "instance",
        "_Feature"
      ],
      "window_display": false
    },
    "colab": {
      "provenance": [],
      "include_colab_link": true
    }
  },
  "nbformat": 4,
  "nbformat_minor": 0
}