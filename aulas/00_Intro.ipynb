{
 "cells": [
  {
   "cell_type": "markdown",
   "metadata": {},
   "source": [
    "[View in Colaboratory](https://colab.research.google.com/https://github.com/ufrpe-ensino/ic-aulas/blob/master/00_Intro.ipynb)"
   ]
  },
  {
   "cell_type": "markdown",
   "metadata": {},
   "source": [
    "## Jupyter Notebooks\n",
    "Este formato de arquivo facilita a combinação perfeita de texto e código. O texto pode ser simples ou formatado com [Markdown](https://daringfireball.net/projects/markdown/). O código pode ser escrito em mais de 40 linguagens, incluindo Python, R e Scala. Mais importante, o código pode ser alterado quando o notebook é aberto em um servidor local (isto é, no seu computador). Alternativamente, ele pode ser visualizado simplesmente por meio de um repositório do github ou do site `nbviewer`.\n",
    "\n",
    "## Google Colab\n",
    "O [Google Colaboratory](https://colab.research.google.com/), ou simplesmente Colab, é um serviço de nuvem gratuito hospedado pelo Google para incentivar a pesquisa em  Aprendizado de Máquina e Inteligência Artificial.\n",
    "\n",
    "Sua interface é similar ao jupyter notebooks, sendo composto por uma lista de células que podem conter textos explicativos (Markdown) ou códigos executáveis e suas respectivas saídas. Ao entrar no site, você já é apresentado a um Notebook de exemplo, semelhante a este:\n",
    "\n",
    "![Colab](https://www.alura.com.br/artigos/assets/google-colab/fig1.png)\n",
    "\n",
    "Esse notebook explica algumas características do Colab e mostra como dar os primeiros passos (recomendo a leitura). Algumas das principais características do Colab são:\n",
    "\n",
    "* Como roda em uma máquina do google, não precisamos realizar qualquer configuração.\n",
    "* É simples de compartilhar, igual a qualquer arquivo contido no drive.\n",
    "\n",
    "Para criar seu próprio notebook, clique  em >File, na parte superior esquerda, logo em seguida em >New Notebook.\n",
    "\n",
    "### Escolha a sintaxe de uma célula\n",
    "Notebooks são construídos de células. As células podem ter vários formatos internos, incluindo *código* e *Markdown* para texto. Você pode selecionar o formato desejado em um menu suspenso na parte superior.\n",
    "\n",
    "Se você quiser digitar palavras, use \"Markdown\"; Se você quiser escrever código, escolha \"código\".\n",
    "\n",
    "### Mover entre as células\n",
    "Para executar uma determinada célula, digite [shift-enter], ativo nessa célula. Você pode executar todas as células com Cell> Run all; outras variações estão disponíveis nesse menu suspenso."
   ]
  },
  {
   "cell_type": "code",
   "execution_count": 1,
   "metadata": {},
   "outputs": [
    {
     "data": {
      "text/plain": [
       "2"
      ]
     },
     "execution_count": 1,
     "metadata": {},
     "output_type": "execute_result"
    }
   ],
   "source": [
    "1+1"
   ]
  },
  {
   "cell_type": "code",
   "execution_count": null,
   "metadata": {
    "collapsed": true
   },
   "outputs": [],
   "source": []
  }
 ],
 "metadata": {
  "kernelspec": {
   "display_name": "Python 3",
   "language": "python",
   "name": "python3"
  },
  "language_info": {
   "codemirror_mode": {
    "name": "ipython",
    "version": 3
   },
   "file_extension": ".py",
   "mimetype": "text/x-python",
   "name": "python",
   "nbconvert_exporter": "python",
   "pygments_lexer": "ipython3",
   "version": "3.6.0"
  }
 },
 "nbformat": 4,
 "nbformat_minor": 2
}
