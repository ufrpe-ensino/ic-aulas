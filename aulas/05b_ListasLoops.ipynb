{
 "cells": [
  {
   "cell_type": "markdown",
   "metadata": {
    "colab_type": "text",
    "id": "view-in-github"
   },
   "source": [
    "<a href=\"https://colab.research.google.com/github/ufrpe-ensino/ic-aulas/blob/master/aulas/05b_ListasLoops.ipynb\" target=\"_parent\"><img src=\"https://colab.research.google.com/assets/colab-badge.svg\" alt=\"Open In Colab\"/></a>"
   ]
  },
  {
   "cell_type": "markdown",
   "metadata": {
    "colab_type": "text",
    "id": "aXIEOy6TLbXs"
   },
   "source": [
    "# Listas: Funções\n",
    "## Soma\n",
    "Podemos obter a soma dos elementos de uma lista de números chamando a função sum()"
   ]
  },
  {
   "cell_type": "code",
   "execution_count": null,
   "metadata": {
    "colab": {},
    "colab_type": "code",
    "id": "wXCknkpcLbXt"
   },
   "outputs": [],
   "source": [
    "temperaturas  = [35, 37.8, 40, 39.8]\n",
    "sum(temperaturas)"
   ]
  },
  {
   "cell_type": "markdown",
   "metadata": {},
   "source": [
    "## len\n",
    "Podemos obter a quantidade de elementos em uma lista com a função `len`:"
   ]
  },
  {
   "cell_type": "code",
   "execution_count": null,
   "metadata": {},
   "outputs": [],
   "source": [
    "temperaturas  = [35, 37.8, 40, 39.8]\n",
    "len(temperaturas)"
   ]
  },
  {
   "cell_type": "markdown",
   "metadata": {
    "colab_type": "text",
    "id": "GpUwrfLoLbXw"
   },
   "source": [
    "## min e max da lista\n",
    "\n",
    "- max(): O método max retorna o elemento da lista com o valor máximo.\n",
    "- min(): O método min retorna o elemento da lista com o valor mínimo."
   ]
  },
  {
   "cell_type": "code",
   "execution_count": null,
   "metadata": {
    "colab": {},
    "colab_type": "code",
    "id": "xj21X0LILbXx",
    "scrolled": true
   },
   "outputs": [],
   "source": [
    "temperaturas  = [35, 37.8, 40, 39.8]\n",
    "min(temperaturas)"
   ]
  },
  {
   "cell_type": "code",
   "execution_count": null,
   "metadata": {
    "colab": {},
    "colab_type": "code",
    "id": "rmRir4sALbX0",
    "scrolled": true
   },
   "outputs": [],
   "source": [
    "max(temperaturas)"
   ]
  },
  {
   "cell_type": "markdown",
   "metadata": {
    "colab_type": "text",
    "id": "_U4JW7nhLbX3"
   },
   "source": [
    "## range\n",
    "A função range(n) gera uma lista de números inteiros de 0 a n-1. Para obter a lista propriamente dita, usar a função list() também"
   ]
  },
  {
   "cell_type": "code",
   "execution_count": null,
   "metadata": {
    "colab": {},
    "colab_type": "code",
    "id": "uUbZ3IHoLbX3"
   },
   "outputs": [],
   "source": [
    "list(range(0,31,3))"
   ]
  },
  {
   "cell_type": "code",
   "execution_count": null,
   "metadata": {},
   "outputs": [],
   "source": [
    "# help(range)"
   ]
  },
  {
   "cell_type": "markdown",
   "metadata": {
    "colab_type": "text",
    "id": "t4MOEdV5LbX6"
   },
   "source": [
    "# Laço for (loops)\n",
    "Na aula de <a href=\"https://colab.research.google.com/github/ufrpe-ensino/ic-aulas/blob/master/aulas/04_Loops.ipynb\" target=\"_parent\">Loops</a> foi apresentada a visão geral da estrutura de repetição **while** e **for**. \n",
    "\n",
    "O Laço `for` é comumente utilizado para perccorrer listas e outras estruturas iteráveis.\n",
    "\n",
    "### Exemplo 1\n",
    "\n",
    "Percorrer uma lista de temperaturas e mostrar o valor associado a um texto descritivo:"
   ]
  },
  {
   "cell_type": "code",
   "execution_count": null,
   "metadata": {},
   "outputs": [],
   "source": [
    "temperaturas  = [35, 37.8, 40, 39.8]\n",
    "temp_media = sum(temperaturas) / len(temperaturas)\n",
    "\n",
    "print('temperatura média: ', temp_media)\n",
    "for temp in temperaturas:\n",
    "    print('Temperatura:', temp, '\\tDiferença:', temp - temp_media)"
   ]
  },
  {
   "cell_type": "markdown",
   "metadata": {},
   "source": [
    "### Exemplo 2\n",
    "Calcular a temperatura média e mostrar se cada valor está acima ou abaixo da média"
   ]
  },
  {
   "cell_type": "code",
   "execution_count": null,
   "metadata": {},
   "outputs": [],
   "source": [
    "temperaturas  = [35, 37.8, 40, 39.8]\n",
    "temp_media = sum(temperaturas) / len(temperaturas)\n",
    "\n",
    "print(20*'-')\n",
    "print('Temperatura média: ', temp_media)\n",
    "print(20*'-')\n",
    "\n",
    "for temp in temperaturas:\n",
    "    if temp > temp_media:\n",
    "        print('Temperatura:', temp, '\\tACIMA DA MÉDIA!')\n",
    "    else:\n",
    "        print('Temperatura:', temp, '\\tABAIXO DA MÉDIA!')"
   ]
  },
  {
   "cell_type": "markdown",
   "metadata": {},
   "source": [
    "### Exemplo 3\n",
    "Gerar a tabuada de 2"
   ]
  },
  {
   "cell_type": "code",
   "execution_count": null,
   "metadata": {
    "colab": {},
    "colab_type": "code",
    "id": "QF3DHX9sLbX7"
   },
   "outputs": [],
   "source": [
    "print('+-----------------+')\n",
    "print('|   TABUADA DE 2  |')\n",
    "print('+-----------------+')\n",
    "\n",
    "for i in range(11):\n",
    "    print('| 2  x %2s   = %2s' % (i, 2*i), ' |')\n",
    "    \n",
    "print('+-----------------+')"
   ]
  },
  {
   "cell_type": "markdown",
   "metadata": {
    "colab_type": "text",
    "id": "TkhRyv1ALbX9"
   },
   "source": [
    "## Exercício 1\n",
    "\n",
    "Modifique o exemplo anterior (tabuada) para gerar as tabuadas de 1 a 10"
   ]
  },
  {
   "cell_type": "code",
   "execution_count": null,
   "metadata": {
    "colab": {},
    "colab_type": "code",
    "id": "mvzKDKPELbX9"
   },
   "outputs": [],
   "source": []
  },
  {
   "cell_type": "markdown",
   "metadata": {
    "colab_type": "text",
    "id": "MlJ21GyKL1ul"
   },
   "source": [
    "## Exercício 2\n",
    "Sejam as listas abaixo referentes aos nomes de alunos e suas respectivas notas do 1º, 2º e 3º VA's. Crie um programa que calcule a média de cada aluno, e imprima o seu nome, a média calculada e o status, 'APROVADO' caso a média seja maior ou igual a 7,0 (sete) e 'REPROVADO' caso contrário."
   ]
  },
  {
   "cell_type": "code",
   "execution_count": null,
   "metadata": {
    "colab": {},
    "colab_type": "code",
    "id": "xQROS9M7LbYA"
   },
   "outputs": [],
   "source": [
    "notas_alunos = [['Zezé di Camargo', 4.5, 8, 9.5],\n",
    "                ['Gretchen Babado', 6, 7.5, 4],\n",
    "                ['Luan Santana', 7.5, 5.8, 9.5],\n",
    "                ['Pablo Vittar', 4.5, 8.7, 6],\n",
    "                ['Joelma Calypso', 10, 7.8, 9.5],\n",
    "                ['Conde do Brega', 9.8, 8, 9.5]]\n",
    "\n",
    "# sua resposta aqui"
   ]
  },
  {
   "cell_type": "markdown",
   "metadata": {
    "colab_type": "text",
    "id": "qjby663XN_lx"
   },
   "source": [
    "## Exercício 3\n",
    "Seja a função matemática definida abaixo:\n",
    "$$f(n) = n^2+1$$\n",
    "Escreva um programa em python, que calcule o valor de f(n) para todos os números no intervalo `[0,100]`, e armazene todos os valores calculados em uma lista"
   ]
  },
  {
   "cell_type": "code",
   "execution_count": null,
   "metadata": {
    "colab": {},
    "colab_type": "code",
    "id": "WzpIjng3NliK"
   },
   "outputs": [],
   "source": [
    "# sua resposta aqui"
   ]
  },
  {
   "cell_type": "markdown",
   "metadata": {
    "colab_type": "text",
    "id": "pzLlPr0FPiee"
   },
   "source": [
    "## Exercício 4\n",
    "Escreva um programa em python que imprima na tela todos os números ímpares de 0 a 1000."
   ]
  },
  {
   "cell_type": "code",
   "execution_count": null,
   "metadata": {
    "colab": {},
    "colab_type": "code",
    "id": "QSa3Q-JbN96m"
   },
   "outputs": [],
   "source": [
    "# sua resposta aqui"
   ]
  },
  {
   "cell_type": "code",
   "execution_count": null,
   "metadata": {},
   "outputs": [],
   "source": []
  }
 ],
 "metadata": {
  "colab": {
   "include_colab_link": true,
   "name": "05_ListasLoops.ipynb",
   "provenance": [],
   "version": "0.3.2"
  },
  "kernelspec": {
   "display_name": "Python 3",
   "language": "python",
   "name": "python3"
  },
  "language_info": {
   "codemirror_mode": {
    "name": "ipython",
    "version": 3
   },
   "file_extension": ".py",
   "mimetype": "text/x-python",
   "name": "python",
   "nbconvert_exporter": "python",
   "pygments_lexer": "ipython3",
   "version": "3.7.1"
  },
  "toc": {
   "base_numbering": 1,
   "nav_menu": {},
   "number_sections": true,
   "sideBar": true,
   "skip_h1_title": false,
   "title_cell": "Table of Contents",
   "title_sidebar": "Contents",
   "toc_cell": false,
   "toc_position": {},
   "toc_section_display": true,
   "toc_window_display": false
  },
  "varInspector": {
   "cols": {
    "lenName": 16,
    "lenType": 16,
    "lenVar": 40
   },
   "kernels_config": {
    "python": {
     "delete_cmd_postfix": "",
     "delete_cmd_prefix": "del ",
     "library": "var_list.py",
     "varRefreshCmd": "print(var_dic_list())"
    },
    "r": {
     "delete_cmd_postfix": ") ",
     "delete_cmd_prefix": "rm(",
     "library": "var_list.r",
     "varRefreshCmd": "cat(var_dic_list()) "
    }
   },
   "types_to_exclude": [
    "module",
    "function",
    "builtin_function_or_method",
    "instance",
    "_Feature"
   ],
   "window_display": false
  }
 },
 "nbformat": 4,
 "nbformat_minor": 2
}
