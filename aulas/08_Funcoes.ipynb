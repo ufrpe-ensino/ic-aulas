{
  "nbformat": 4,
  "nbformat_minor": 0,
  "metadata": {
    "colab": {
      "name": "08_Funcoes.ipynb",
      "provenance": [],
      "include_colab_link": true
    },
    "kernelspec": {
      "name": "python3",
      "display_name": "Python 3"
    }
  },
  "cells": [
    {
      "cell_type": "markdown",
      "metadata": {
        "id": "view-in-github",
        "colab_type": "text"
      },
      "source": [
        "<a href=\"https://colab.research.google.com/github/ufrpe-ensino/ic-aulas/blob/master/aulas/08_Funcoes.ipynb\" target=\"_parent\"><img src=\"https://colab.research.google.com/assets/colab-badge.svg\" alt=\"Open In Colab\"/></a>"
      ]
    },
    {
      "metadata": {
        "id": "qsv3AUrXxc-5"
      },
      "cell_type": "markdown",
      "source": [
        "# Funções\n",
        "Funções nos permitem escrever código que podemos usar no futuro. Quando colocamos uma série de instruções em uma função, podemos reutilizá-lo para receber entradas, realizar cálculos ou outras manipulações e retornar saídas, assim como uma função em matemática.\n",
        "\n",
        "É como se fosse um bloco de código reutilizavel\n",
        "\n",
        "Como criar uma função:\n",
        "\n",
        "```\n",
        "def nome_da_funcao(argumento01, argumento02, ...):\n",
        "    # Código da função\n",
        "    return alguma_coisa\n",
        "```\n",
        "O **def** declara que estaremos construindo uma função na qual temos o nome da função e seus argumentos que serão passados para função\n",
        "\n",
        "O **return** é opcional caso sua função retorne algo, ela pode somente imprimir algo não precisando do return, as funções podem retornar vários valores de uma vez, retornando uma **tupla** ou valores unicos se atribuido para a mesma quantidade de variaveis que retornou\n",
        "\n",
        "As funções devem ser definidas antes de ser executadas\n",
        "\n",
        "Usar a função:\n",
        "```\n",
        "alguma_coisa = nome_da_funcao(argumento01, argumento02)\n",
        "```\n",
        "\n",
        "Nomeclaturas: Não de o nome da função para nome de variaveis\n",
        "\n",
        "**Exemplo**\n",
        "\n",
        "Função chamada **maior_numero** que recebe dois numeros, e imprime o maior deles."
      ]
    },
    {
      "metadata": {
        "id": "AGy0UvoMxa0U"
      },
      "cell_type": "markdown",
      "source": []
    },
    {
      "metadata": {
        "id": "PIjOZVYzx4HP"
      },
      "cell_type": "code",
      "source": [
        "def maior_numero(num1, num2):\n",
        "  maior = num1\n",
        "  if num2 > num1:\n",
        "    maior = num2\n",
        "  print('O número ', maior, ' é o maior')"
      ],
      "execution_count": null,
      "outputs": []
    },
    {
      "metadata": {
        "id": "Uw8HZv5OO5Ep"
      },
      "cell_type": "markdown",
      "source": [
        "para usar a função:"
      ]
    },
    {
      "metadata": {
        "id": "NNIouxNuO7dN"
      },
      "cell_type": "code",
      "source": [
        "maior_numero(2, 10)"
      ],
      "execution_count": null,
      "outputs": []
    },
    {
      "metadata": {
        "id": "G54mifjBO-l1"
      },
      "cell_type": "code",
      "source": [
        "# usando quantas vezes quiser\n",
        "maior_numero(10,4)\n",
        "maior_numero(20, 16)"
      ],
      "execution_count": null,
      "outputs": []
    },
    {
      "metadata": {
        "id": "JEqp5VbkVuLA"
      },
      "cell_type": "markdown",
      "source": [
        "**Exercício**\n",
        "\n",
        "Escreva uma função que receba uma lista e imprima apenas os números pares\n"
      ]
    },
    {
      "metadata": {
        "id": "Zel7kbvRVtqh"
      },
      "cell_type": "code",
      "source": [],
      "execution_count": null,
      "outputs": []
    },
    {
      "metadata": {
        "id": "e_K1HYvlPID8"
      },
      "cell_type": "markdown",
      "source": [
        "## Retornando valores\n",
        "\n",
        "Para retornar um valor, utilizar a palavra **return**\n",
        "\n",
        "### Exemplo:\n",
        "Função que retorna True caso o número informado seja ímpar e False caso contrário\n"
      ]
    },
    {
      "metadata": {
        "id": "6mK029RwWPw9"
      },
      "cell_type": "code",
      "source": [
        "def eh_impar(x):\n",
        "  if x%2 == 0:\n",
        "    return False\n",
        "  else:\n",
        "    return True"
      ],
      "execution_count": null,
      "outputs": []
    },
    {
      "metadata": {
        "id": "6AJlbl7CPFwn",
        "colab": {
          "base_uri": "https://localhost:8080/",
          "height": 68
        },
        "outputId": "2346fb81-9c2e-4e7a-e235-9df60733dbaf"
      },
      "cell_type": "code",
      "source": [
        "print(eh_impar(4))\n",
        "print(eh_impar(1))\n",
        "print(eh_impar(3))"
      ],
      "execution_count": null,
      "outputs": [
        {
          "output_type": "stream",
          "text": [
            "False\n",
            "True\n",
            "True\n"
          ],
          "name": "stdout"
        }
      ]
    },
    {
      "metadata": {
        "id": "N_Vpak8XPL6L"
      },
      "cell_type": "markdown",
      "source": [
        "# Retornando mais de um valor"
      ]
    },
    {
      "metadata": {
        "id": "WdRTynyZPOZg"
      },
      "cell_type": "code",
      "source": [
        "# Define a função de operações matematicas e retorna duas operações\n",
        "def soma_multiplica(number1, number2):\n",
        "    return number1+number2, number1*number2"
      ],
      "execution_count": null,
      "outputs": []
    },
    {
      "metadata": {
        "id": "gr4j5gbsPSRg",
        "colab": {
          "base_uri": "https://localhost:8080/",
          "height": 51
        },
        "outputId": "9ad0933e-1155-469e-a42e-2baad441d0fe"
      },
      "cell_type": "code",
      "source": [
        "print(soma_multiplica(3, 4))\n",
        "print(soma_multiplica(2, 5))"
      ],
      "execution_count": null,
      "outputs": [
        {
          "output_type": "stream",
          "text": [
            "(7, 12)\n",
            "(7, 10)\n"
          ],
          "name": "stdout"
        }
      ]
    },
    {
      "metadata": {
        "id": "SQjUbtSVWoJN"
      },
      "cell_type": "code",
      "source": [],
      "execution_count": null,
      "outputs": []
    },
    {
      "metadata": {
        "id": "4uybZYX1W1RJ"
      },
      "cell_type": "markdown",
      "source": [
        "# Exercício\n",
        "\n",
        "Escreva uma função em python chamada ‘histograma’que receba como entrada uma string, e retorne um dicionário cujas chaves correspondem à letras da string de entrada, e os valores correspondam à quantidade de vezes que cada letra se repete na string. Por exemplo:\n",
        "```\n",
        ">>> h = histograma('brontosaurus')\n",
        ">>> h\n",
        "{'a': 1, 'b': 1, 'o': 2, 'n': 1, 's': 2, 'r': 2, 'u': 2, 't': 1}\n",
        "```"
      ]
    },
    {
      "metadata": {
        "id": "GLkSvheTW8Oq"
      },
      "cell_type": "code",
      "source": [],
      "execution_count": null,
      "outputs": []
    }
  ]
}