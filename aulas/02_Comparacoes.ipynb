{
 "cells": [
  {
   "cell_type": "markdown",
   "metadata": {},
   "source": [
    "<a href=\"https://colab.research.google.com/github/ufrpe-ensino/ic-aulas/blob/master/aulas/02_Comparações.ipynb\" target=\"_parent\"><img src=\"https://colab.research.google.com/assets/colab-badge.svg\" alt=\"Open In Colab\"/></a>"
   ]
  },
  {
   "cell_type": "markdown",
   "metadata": {},
   "source": [
    "# Comparações\n",
    "***"
   ]
  },
  {
   "cell_type": "markdown",
   "metadata": {},
   "source": [
    "Variáveis booleanas são variáveis que possuir dois valores constantes, **false** que significa falso e **true** que significa verdadeiro\n",
    "\n",
    "Em binario ou linguagem de máquina eles são considerado os valores **1** para true e **0** para false\n",
    "\n",
    "Usados para verificar se determinadas condições do meu programa são verdadeiras ou falsas\n",
    "\n",
    "A função **bool()** pega um determinado valor passado como parâmetro e ele retorna se o valor é **True** ou **False**\n",
    "\n",
    "Verdadeiro é todo valor que o python não considera como vazio, valores vazios são: **None**, **False**, **[]**, **{}**, **()**, **”**, , **0** e **0.0**\n",
    "\n",
    "**Operadores de comparação**:\n",
    "\n",
    "  - $<$: Menor\n",
    "  - $>$: Maior\n",
    "  - $<=$: Menor ou igual\n",
    "  - $>=$: Maior ou igual\n",
    "  - $==$: Igual\n",
    "  - $!=$: Diferente"
   ]
  },
  {
   "cell_type": "markdown",
   "metadata": {},
   "source": [
    "### Exemplo 1:"
   ]
  },
  {
   "cell_type": "code",
   "execution_count": 2,
   "metadata": {},
   "outputs": [
    {
     "data": {
      "text/plain": [
       "True"
      ]
     },
     "execution_count": 2,
     "metadata": {},
     "output_type": "execute_result"
    }
   ],
   "source": [
    "a = 5\n",
    "a < 99"
   ]
  },
  {
   "cell_type": "markdown",
   "metadata": {},
   "source": [
    "***\n",
    "### Exemplo 2\n",
    "***"
   ]
  },
  {
   "cell_type": "markdown",
   "metadata": {},
   "source": [
    "#### Primeiro vamos inserir os valores\n",
    "***"
   ]
  },
  {
   "cell_type": "code",
   "execution_count": 2,
   "metadata": {},
   "outputs": [
    {
     "name": "stdout",
     "output_type": "stream",
     "text": [
      "Insira o primeiro número: 10\n",
      "Insira o segundo número: 20\n"
     ]
    }
   ],
   "source": [
    "number1 = int(input(\"Insira o primeiro número: \"))\n",
    "number2 = int(input(\"Insira o segundo número: \"))"
   ]
  },
  {
   "cell_type": "markdown",
   "metadata": {},
   "source": [
    "#### Vamos as comparações\n",
    "***"
   ]
  },
  {
   "cell_type": "code",
   "execution_count": 4,
   "metadata": {},
   "outputs": [
    {
     "name": "stdout",
     "output_type": "stream",
     "text": [
      "10 > 20 : False\n"
     ]
    }
   ],
   "source": [
    "print(number1, \">\", number2, \":\", number1 > number2)"
   ]
  },
  {
   "cell_type": "code",
   "execution_count": 5,
   "metadata": {},
   "outputs": [
    {
     "name": "stdout",
     "output_type": "stream",
     "text": [
      "10 < 20 : True\n"
     ]
    }
   ],
   "source": [
    "print(number1, \"<\", number2, \":\", number1 < number2)"
   ]
  },
  {
   "cell_type": "code",
   "execution_count": 6,
   "metadata": {},
   "outputs": [
    {
     "name": "stdout",
     "output_type": "stream",
     "text": [
      "10 >= 20 : False\n"
     ]
    }
   ],
   "source": [
    "print(number1, \">=\", number2, \":\", number1 >= number2)"
   ]
  },
  {
   "cell_type": "code",
   "execution_count": 7,
   "metadata": {},
   "outputs": [
    {
     "name": "stdout",
     "output_type": "stream",
     "text": [
      "10 <= 20 : True\n"
     ]
    }
   ],
   "source": [
    "print(number1, \"<=\", number2, \":\", number1 <= number2)"
   ]
  },
  {
   "cell_type": "code",
   "execution_count": 8,
   "metadata": {},
   "outputs": [
    {
     "name": "stdout",
     "output_type": "stream",
     "text": [
      "10 == 20 : False\n"
     ]
    }
   ],
   "source": [
    "print(number1, \"==\", number2, \":\", number1 == number2)"
   ]
  },
  {
   "cell_type": "code",
   "execution_count": 9,
   "metadata": {},
   "outputs": [
    {
     "name": "stdout",
     "output_type": "stream",
     "text": [
      "10 != 20 : True\n"
     ]
    }
   ],
   "source": [
    "print(number1, \"!=\", number2, \":\", number1 != number2)"
   ]
  },
  {
   "cell_type": "code",
   "execution_count": 10,
   "metadata": {},
   "outputs": [
    {
     "name": "stdout",
     "output_type": "stream",
     "text": [
      "1 : True\n"
     ]
    }
   ],
   "source": [
    "print(1, \":\", bool(1))"
   ]
  },
  {
   "cell_type": "code",
   "execution_count": 11,
   "metadata": {},
   "outputs": [
    {
     "name": "stdout",
     "output_type": "stream",
     "text": [
      "0 : False\n"
     ]
    }
   ],
   "source": [
    "print(0, \":\", bool(0))"
   ]
  }
 ],
 "metadata": {
  "kernelspec": {
   "display_name": "Python 3",
   "language": "python",
   "name": "python3"
  },
  "language_info": {
   "codemirror_mode": {
    "name": "ipython",
    "version": 3
   },
   "file_extension": ".py",
   "mimetype": "text/x-python",
   "name": "python",
   "nbconvert_exporter": "python",
   "pygments_lexer": "ipython3",
   "version": "3.7.1"
  }
 },
 "nbformat": 4,
 "nbformat_minor": 2
}
