{
 "cells": [
  {
   "cell_type": "markdown",
   "metadata": {},
   "source": [
    "<a href=\"https://colab.research.google.com/github/ufrpe-ensino/ic-aulas/blob/master/aulas/01_IntroPython.ipynb\" target=\"_parent\"><img src=\"https://colab.research.google.com/assets/colab-badge.svg\" alt=\"Open In Colab\"/></a>"
   ]
  },
  {
   "cell_type": "markdown",
   "metadata": {},
   "source": [
    "# Introdução a Python"
   ]
  },
  {
   "cell_type": "markdown",
   "metadata": {},
   "source": [
    "## Comentários\n",
    "#### Comentario de uma linha"
   ]
  },
  {
   "cell_type": "code",
   "execution_count": null,
   "metadata": {
    "collapsed": true
   },
   "outputs": [],
   "source": [
    "# Comentario de uma linha para métodos privados"
   ]
  },
  {
   "cell_type": "markdown",
   "metadata": {},
   "source": [
    "#### Cometario de multiplas linhas"
   ]
  },
  {
   "cell_type": "code",
   "execution_count": null,
   "metadata": {},
   "outputs": [],
   "source": [
    "'''\n",
    "Comentarios\n",
    "de\n",
    "varias\n",
    "linhas\n",
    "'''"
   ]
  },
  {
   "cell_type": "markdown",
   "metadata": {},
   "source": [
    "## Print"
   ]
  },
  {
   "cell_type": "code",
   "execution_count": null,
   "metadata": {},
   "outputs": [],
   "source": [
    "# A função print emprime uma mensagem na tela do usuário\n",
    "print(\"Olá 'Mundo'!\")"
   ]
  },
  {
   "cell_type": "code",
   "execution_count": null,
   "metadata": {
    "collapsed": true
   },
   "outputs": [],
   "source": [
    "# Também podemos imprimir um número, porém esse número é uma palavra e não um número em si se tiver entre aspas\n",
    "print(\"23\")"
   ]
  },
  {
   "cell_type": "code",
   "execution_count": null,
   "metadata": {
    "collapsed": true
   },
   "outputs": [],
   "source": [
    "# Porém se o número tiver fora de aspas ele é um número\n",
    "print(23)"
   ]
  },
  {
   "cell_type": "code",
   "execution_count": null,
   "metadata": {
    "collapsed": true
   },
   "outputs": [],
   "source": [
    "# Se quiser imprimir um número no final da frase temos que passa o número depois da virgula na função print\n",
    "print(\"Esse é o número\", 23)"
   ]
  },
  {
   "cell_type": "code",
   "execution_count": null,
   "metadata": {
    "collapsed": true
   },
   "outputs": [],
   "source": [
    "# Se quiser imprimir um número no meio da frase é só quebra a frase com virgulas e inserir o número\n",
    "print(\"O número\", 23, \"é minha idade\")"
   ]
  },
  {
   "cell_type": "code",
   "execution_count": null,
   "metadata": {
    "collapsed": true
   },
   "outputs": [],
   "source": [
    "# O \\n irá quebrar a linha do print\n",
    "print(\"O número\\n23\")"
   ]
  },
  {
   "cell_type": "code",
   "execution_count": null,
   "metadata": {
    "collapsed": true
   },
   "outputs": [],
   "source": [
    "# Podemos inserir os parâmetros através de campos chaves %i para inteiro ou %f para float.\n",
    "print(\"Vamos inserir um número %i e um outro número %.2f\" % (23, 22.4456))"
   ]
  },
  {
   "cell_type": "code",
   "execution_count": null,
   "metadata": {
    "collapsed": true
   },
   "outputs": [],
   "source": [
    "# Raw strings é usado para não interpretar caracteres especiais como \\n\n",
    "print(r\"C:\\some\\name\")"
   ]
  },
  {
   "cell_type": "code",
   "execution_count": null,
   "metadata": {
    "collapsed": true
   },
   "outputs": [],
   "source": [
    "# Concatenação de strings\n",
    "para = 'para'\n",
    "print(para + 2 * 'le' + 'pipedo')"
   ]
  },
  {
   "cell_type": "code",
   "execution_count": null,
   "metadata": {
    "collapsed": true
   },
   "outputs": [],
   "source": [
    "# O comando help() mostra a documentação do comando que inserir dentro dele como parâmetro\n",
    "help(print)"
   ]
  },
  {
   "cell_type": "markdown",
   "metadata": {},
   "source": [
    "## Variáveis\n",
    "Variáveis são usadas para armazenar e modificar valores."
   ]
  },
  {
   "cell_type": "code",
   "execution_count": null,
   "metadata": {},
   "outputs": [],
   "source": [
    "a = 5\n",
    "b = a + 3.1415\n",
    "c = a / b\n",
    "\n",
    "print(a, b, c)"
   ]
  },
  {
   "cell_type": "markdown",
   "metadata": {},
   "source": [
    "***\n",
    "### Tipos de variáveis\n",
    "***\n",
    "\n",
    "* **int**: Tipo inteiro, . . . , -3, -2, -1, 0, 1, 2, 3, . . .\n",
    "* **float**: Tipo de ponto flutuante, . . . , -3.2, 0.5, 4.4 . . .\n",
    "* **string**: Texto ou palavras, \"Texto ou string\"\n",
    "* etc. . .\n",
    "\n",
    "Exemplo:"
   ]
  },
  {
   "cell_type": "code",
   "execution_count": null,
   "metadata": {
    "collapsed": true
   },
   "outputs": [],
   "source": [
    "# Vamos criar o rótulo idade para o objeto 23 da classe int\n",
    "idade = 23\n",
    "print(type(23))\n",
    "print(type(idade))"
   ]
  },
  {
   "cell_type": "markdown",
   "metadata": {},
   "source": [
    "## Inputs\n",
    "A função **input()** espera que o usuário digite alguma coisa para armazenar em alguma variável\n",
    "\n",
    "A função **input()** sempre retorna uma string, se a gente quer que o usuário digite um número precisamos converter essas string para um tipo inteiro com a função **int()**\n",
    "\n",
    "Para imprimir vários elementos em uma única linha usamos a função **split** para quebrar nos espaços em brancos ou virgula ou qualquer caractere definido na função. Depois só converter de string para o tipo certo da variável"
   ]
  },
  {
   "cell_type": "markdown",
   "metadata": {},
   "source": [
    "### Usuário irá digitar o nome e o nome será armazenado na variável name\n",
    "name = input(\"Insira seu nome: \")"
   ]
  },
  {
   "cell_type": "code",
   "execution_count": null,
   "metadata": {},
   "outputs": [],
   "source": [
    "# Usuário irá digitar a idade e a idade será armazenado na variável age em forma número inteiro\n",
    "age = int(input(\"Insira sua idade: \"))"
   ]
  },
  {
   "cell_type": "code",
   "execution_count": null,
   "metadata": {},
   "outputs": [],
   "source": [
    "# Imprime o nome, a idade e o ano de nascimento da pessoa considerando estar em 2016\n",
    "print(name, \"tem\", age, \"anos e nasceu em\", 2016-age)"
   ]
  },
  {
   "cell_type": "code",
   "execution_count": null,
   "metadata": {},
   "outputs": [],
   "source": [
    "# Imprimir três valores na mesma linha com tipos diferentes\n",
    "A, B, C = input(\"\").split()\n",
    "A, B = [int(A), int(B)]\n",
    "C = float(C)\n",
    "\n",
    "print(\"%d %d %.2f\" % (A, B, C))"
   ]
  },
  {
   "cell_type": "markdown",
   "metadata": {},
   "source": [
    "## Formatação\n",
    "**%i** e **%d** imprime variáveis inteiras\n",
    "\n",
    "**%f** imprime variáveis reais, ela por padrão arredonda a ultima casa\n",
    "\n",
    "Para limitar o número de algoritmos só inserir o **%.2f** terá 2 casas decimais, **%.1f** terá uma única casa e assim por diante...\n",
    "\n",
    "**%g** imprime variáveis em notação cientifica: 1e+14 = 1x10^14 ele também detecta os algaritmos significativos da impressão, por exemplo, se eu quiser imprimir 0.56 e usar o **%g** ele vai imprimir 0.56 e não 0.560000 como o **%f**, muito usado quando você não sabe o número exato de algaritmos significativos, logo botar **%.10g** ele imprime até 10 algaritmos mas não necessariamente 10."
   ]
  },
  {
   "cell_type": "code",
   "execution_count": null,
   "metadata": {},
   "outputs": [],
   "source": [
    "# Ao dividir 100/3 da uma dizima periodica e o python acaba dando um limite a ela e \n",
    "# arredondando a ultima casa, isso é um problema\n",
    "print (100/3)"
   ]
  },
  {
   "cell_type": "code",
   "execution_count": null,
   "metadata": {},
   "outputs": [],
   "source": [
    "# Imprime um número inteiro de forma formatada\n",
    "print (\"%d\" % 100)"
   ]
  },
  {
   "cell_type": "code",
   "execution_count": null,
   "metadata": {},
   "outputs": [],
   "source": [
    "# Imprime um número real de forma formatada com 2 casas decimais\n",
    "print (\"%.2f\" % 100.2)"
   ]
  },
  {
   "cell_type": "code",
   "execution_count": null,
   "metadata": {},
   "outputs": [],
   "source": [
    "# Da um espaço de 3 caracteres para a impressão e acrescenta zeros a esquerda do número, \n",
    "# no caso até completa 2 caracteres utilizada para alinhar as casas decimais das impressões\n",
    "print (\"%3.2d\" % 7)"
   ]
  },
  {
   "cell_type": "code",
   "execution_count": null,
   "metadata": {
    "collapsed": true
   },
   "outputs": [],
   "source": []
  }
 ],
 "metadata": {
  "kernelspec": {
   "display_name": "Python 3",
   "language": "python",
   "name": "python3"
  },
  "language_info": {
   "codemirror_mode": {
    "name": "ipython",
    "version": 3
   },
   "file_extension": ".py",
   "mimetype": "text/x-python",
   "name": "python",
   "nbconvert_exporter": "python",
   "pygments_lexer": "ipython3",
   "version": "3.7.1"
  }
 },
 "nbformat": 4,
 "nbformat_minor": 2
}
