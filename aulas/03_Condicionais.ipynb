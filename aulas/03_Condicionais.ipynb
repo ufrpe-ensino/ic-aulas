{
 "cells": [
  {
   "cell_type": "markdown",
   "metadata": {},
   "source": [
    "<a href=\"https://colab.research.google.com/github/ufrpe-ensino/ic-aulas/blob/master/aulas/03_Condicionais.ipynb\" target=\"_parent\"><img src=\"https://colab.research.google.com/assets/colab-badge.svg\" alt=\"Open In Colab\"/></a>"
   ]
  },
  {
   "cell_type": "markdown",
   "metadata": {},
   "source": [
    "# Estruturas Condicionais"
   ]
  },
  {
   "cell_type": "markdown",
   "metadata": {},
   "source": [
    "## If\n",
    "\n",
    "O python utiliza de tabulação para a execução de blocos de código e dois pontos para iniciar um bloco\n",
    "\n",
    "O bloco if tem uma condição que se satisfeita cai no primeiro print caso contrario ou else cai no segundo print\n",
    "\n",
    "### Exemplos"
   ]
  },
  {
   "cell_type": "code",
   "execution_count": 1,
   "metadata": {},
   "outputs": [
    {
     "name": "stdout",
     "output_type": "stream",
     "text": [
      "Idade permitida para dirigir!\n"
     ]
    }
   ],
   "source": [
    "age = 20\n",
    "if 18 <= age < 70:\n",
    "    print(\"Idade permitida para dirigir!\")\n",
    "else:\n",
    "    print(\"Não pode dirigir\")"
   ]
  },
  {
   "cell_type": "markdown",
   "metadata": {},
   "source": [
    "## elif\n",
    "Se em qualquer uma das condições der verdadeiro ele não executa nenhuma das outras\n",
    "\n",
    "Ele depende de as condições acima delas serem falsas para que possa ser executado\n",
    "\n",
    "Se todas as condições forem falsas cai no else que é a condição final\n",
    "\n",
    "Sempre alguma codição irá ser executada\n",
    "\n",
    "Normalmente as comparações do if elif else estão associadas as mesmas variáveis, podendo ser de variáveis diferentes desde que elas estejam ligadas ao mesmo fenomeno e a dos multiplos if são de variáveis diferentes para cada if\n",
    "\n",
    "Normalmente o if elif else excluir condições para que uma condição possa se concretizar\n",
    "\n",
    "### Exemplos"
   ]
  },
  {
   "cell_type": "code",
   "execution_count": 3,
   "metadata": {},
   "outputs": [
    {
     "name": "stdout",
     "output_type": "stream",
     "text": [
      "Começando o jogo\n"
     ]
    }
   ],
   "source": [
    "opcao = 'jogar'\n",
    "if (opcao == 'jogar'):\n",
    "    print(\"Começando o jogo\")\n",
    "elif (opcao == 'recorde'):\n",
    "    print(\"Mostrar recordes\")\n",
    "elif (opcao == 'sair'):\n",
    "    print(\"Sair do jogo\")\n",
    "else:\n",
    "    print(\"Opção invalida\")"
   ]
  },
  {
   "cell_type": "markdown",
   "metadata": {},
   "source": [
    "## Exercício\n",
    "Escreva um código que solicite ao usuário que digite a sua idade, e imprima na tela \"maior de idade\" caso seja maior que 18, ou \"menor de idade\" caso contrário"
   ]
  },
  {
   "cell_type": "code",
   "execution_count": null,
   "metadata": {
    "collapsed": true
   },
   "outputs": [],
   "source": []
  }
 ],
 "metadata": {
  "kernelspec": {
   "display_name": "Python 3",
   "language": "python",
   "name": "python3"
  },
  "language_info": {
   "codemirror_mode": {
    "name": "ipython",
    "version": 3
   },
   "file_extension": ".py",
   "mimetype": "text/x-python",
   "name": "python",
   "nbconvert_exporter": "python",
   "pygments_lexer": "ipython3",
   "version": "3.7.1"
  }
 },
 "nbformat": 4,
 "nbformat_minor": 2
}
